{
  "metadata": {
    "kernelspec": {
      "language": "python",
      "display_name": "Python 3",
      "name": "python3"
    },
    "language_info": {
      "name": "python",
      "version": "3.11.11",
      "mimetype": "text/x-python",
      "codemirror_mode": {
        "name": "ipython",
        "version": 3
      },
      "pygments_lexer": "ipython3",
      "nbconvert_exporter": "python",
      "file_extension": ".py"
    },
    "kaggle": {
      "accelerator": "gpu",
      "dataSources": [
        {
          "sourceId": 92399,
          "databundleVersionId": 11038207,
          "sourceType": "competition"
        }
      ],
      "dockerImageVersionId": 31012,
      "isInternetEnabled": true,
      "language": "python",
      "sourceType": "notebook",
      "isGpuEnabled": true
    },
    "colab": {
      "name": "49_04 - ResNet50 + BiLSTM",
      "provenance": [],
      "include_colab_link": true
    }
  },
  "nbformat_minor": 0,
  "nbformat": 4,
  "cells": [
    {
      "cell_type": "markdown",
      "metadata": {
        "id": "view-in-github",
        "colab_type": "text"
      },
      "source": [
        "<a href=\"https://colab.research.google.com/github/HMNS19/Mini-Project-Crash-Prediction/blob/main/Crash%20Pred3.ipynb\" target=\"_parent\"><img src=\"https://colab.research.google.com/assets/colab-badge.svg\" alt=\"Open In Colab\"/></a>"
      ]
    },
    {
      "source": [
        "import kagglehub\n",
        "kagglehub.login()\n"
      ],
      "metadata": {
        "id": "MGjiO_AianQV"
      },
      "cell_type": "code",
      "outputs": [],
      "execution_count": null
    },
    {
      "source": [
        "nexar_collision_prediction_path = kagglehub.competition_download('nexar-collision-prediction')\n",
        "print('Data source import complete.')\n"
      ],
      "metadata": {
        "id": "sDVfMCSGanQY"
      },
      "cell_type": "code",
      "outputs": [],
      "execution_count": null
    },
    {
      "cell_type": "code",
      "source": [],
      "metadata": {
        "trusted": true,
        "id": "OrAQhkBjanQb"
      },
      "outputs": [],
      "execution_count": null
    },
    {
      "cell_type": "code",
      "source": [
        "\n",
        "import numpy as np\n",
        "import pandas as pd\n",
        "import os\n",
        "import cv2\n",
        "from tensorflow.keras.applications import ResNet50\n",
        "from tensorflow.keras.applications.resnet50 import preprocess_input\n",
        "from tensorflow.keras.models import Sequential\n",
        "from tensorflow.keras.layers import Bidirectional, LSTM, Dense\n",
        "from tensorflow.keras.callbacks import EarlyStopping\n",
        "\n",
        "\n",
        "DATA_DIR = \"/kaggle/input/nexar-collision-prediction\"\n",
        "train_df = pd.read_csv(os.path.join(DATA_DIR, \"train.csv\"))\n",
        "test_df  = pd.read_csv(os.path.join(DATA_DIR, \"test.csv\"))\n",
        "\n",
        "print(f\"Training videos: {len(train_df)}, Test videos: {len(test_df)}\")\n",
        "print(train_df.head(3))"
      ],
      "metadata": {
        "_uuid": "8f2839f25d086af736a60e9eeb907d3b93b6e0e5",
        "_cell_guid": "b1076dfc-b9ad-4769-8c92-a6c4dae69d19",
        "trusted": true,
        "execution": {
          "iopub.status.busy": "2025-05-11T17:17:47.879689Z",
          "iopub.execute_input": "2025-05-11T17:17:47.879912Z",
          "iopub.status.idle": "2025-05-11T17:18:01.925969Z",
          "shell.execute_reply.started": "2025-05-11T17:17:47.879893Z",
          "shell.execute_reply": "2025-05-11T17:18:01.925182Z"
        },
        "id": "Cb_PHRqlanQb",
        "outputId": "fb654f31-d351-4d43-bc6a-fe93016e8851"
      },
      "outputs": [
        {
          "name": "stderr",
          "text": "2025-05-11 17:17:50.625322: E external/local_xla/xla/stream_executor/cuda/cuda_fft.cc:477] Unable to register cuFFT factory: Attempting to register factory for plugin cuFFT when one has already been registered\nWARNING: All log messages before absl::InitializeLog() is called are written to STDERR\nE0000 00:00:1746983870.827813      31 cuda_dnn.cc:8310] Unable to register cuDNN factory: Attempting to register factory for plugin cuDNN when one has already been registered\nE0000 00:00:1746983870.882368      31 cuda_blas.cc:1418] Unable to register cuBLAS factory: Attempting to register factory for plugin cuBLAS when one has already been registered\n",
          "output_type": "stream"
        },
        {
          "name": "stdout",
          "text": "Training videos: 1500, Test videos: 1344\n     id  time_of_event  time_of_alert  target\n0  1924            NaN            NaN       0\n1   822           19.5         18.633       1\n2  1429            NaN            NaN       0\n",
          "output_type": "stream"
        },
        {
          "name": "stderr",
          "text": "/usr/local/lib/python3.11/dist-packages/pandas/io/formats/format.py:1458: RuntimeWarning: invalid value encountered in greater\n  has_large_values = (abs_vals > 1e6).any()\n/usr/local/lib/python3.11/dist-packages/pandas/io/formats/format.py:1459: RuntimeWarning: invalid value encountered in less\n  has_small_values = ((abs_vals < 10 ** (-self.digits)) & (abs_vals > 0)).any()\n/usr/local/lib/python3.11/dist-packages/pandas/io/formats/format.py:1459: RuntimeWarning: invalid value encountered in greater\n  has_small_values = ((abs_vals < 10 ** (-self.digits)) & (abs_vals > 0)).any()\n",
          "output_type": "stream"
        }
      ],
      "execution_count": null
    },
    {
      "cell_type": "code",
      "source": [
        "\n",
        "train_df['filename'] = train_df['id'].apply(lambda x: f\"{int(x):04d}.mp4\")\n",
        "test_df['filename']  = test_df['id'].apply(lambda x: f\"{int(x):04d}.mp4\")\n",
        "\n",
        "\n",
        "print(train_df['target'].value_counts())\n",
        "train_df.head(3)"
      ],
      "metadata": {
        "trusted": true,
        "execution": {
          "iopub.status.busy": "2025-05-11T17:18:01.92693Z",
          "iopub.execute_input": "2025-05-11T17:18:01.927166Z",
          "iopub.status.idle": "2025-05-11T17:18:01.96002Z",
          "shell.execute_reply.started": "2025-05-11T17:18:01.927149Z",
          "shell.execute_reply": "2025-05-11T17:18:01.959255Z"
        },
        "id": "asquH5G0anQd",
        "outputId": "312a7438-a9f5-45c1-a1e0-2f4a3bf4e6e9"
      },
      "outputs": [
        {
          "name": "stdout",
          "text": "target\n0    750\n1    750\nName: count, dtype: int64\n",
          "output_type": "stream"
        },
        {
          "name": "stderr",
          "text": "/usr/local/lib/python3.11/dist-packages/pandas/io/formats/format.py:1458: RuntimeWarning: invalid value encountered in greater\n  has_large_values = (abs_vals > 1e6).any()\n/usr/local/lib/python3.11/dist-packages/pandas/io/formats/format.py:1459: RuntimeWarning: invalid value encountered in less\n  has_small_values = ((abs_vals < 10 ** (-self.digits)) & (abs_vals > 0)).any()\n/usr/local/lib/python3.11/dist-packages/pandas/io/formats/format.py:1459: RuntimeWarning: invalid value encountered in greater\n  has_small_values = ((abs_vals < 10 ** (-self.digits)) & (abs_vals > 0)).any()\n",
          "output_type": "stream"
        },
        {
          "execution_count": 2,
          "output_type": "execute_result",
          "data": {
            "text/plain": "     id  time_of_event  time_of_alert  target  filename\n0  1924            NaN            NaN       0  1924.mp4\n1   822           19.5         18.633       1  0822.mp4\n2  1429            NaN            NaN       0  1429.mp4",
            "text/html": "<div>\n<style scoped>\n    .dataframe tbody tr th:only-of-type {\n        vertical-align: middle;\n    }\n\n    .dataframe tbody tr th {\n        vertical-align: top;\n    }\n\n    .dataframe thead th {\n        text-align: right;\n    }\n</style>\n<table border=\"1\" class=\"dataframe\">\n  <thead>\n    <tr style=\"text-align: right;\">\n      <th></th>\n      <th>id</th>\n      <th>time_of_event</th>\n      <th>time_of_alert</th>\n      <th>target</th>\n      <th>filename</th>\n    </tr>\n  </thead>\n  <tbody>\n    <tr>\n      <th>0</th>\n      <td>1924</td>\n      <td>NaN</td>\n      <td>NaN</td>\n      <td>0</td>\n      <td>1924.mp4</td>\n    </tr>\n    <tr>\n      <th>1</th>\n      <td>822</td>\n      <td>19.5</td>\n      <td>18.633</td>\n      <td>1</td>\n      <td>0822.mp4</td>\n    </tr>\n    <tr>\n      <th>2</th>\n      <td>1429</td>\n      <td>NaN</td>\n      <td>NaN</td>\n      <td>0</td>\n      <td>1429.mp4</td>\n    </tr>\n  </tbody>\n</table>\n</div>"
          },
          "metadata": {}
        }
      ],
      "execution_count": null
    },
    {
      "cell_type": "code",
      "source": [
        "from sklearn.model_selection import train_test_split\n",
        "\n",
        "\n",
        "train_df, val_df = train_test_split(train_df, test_size=0.2, stratify=train_df['target'], random_state=42)\n",
        "print(f\"Train split: {len(train_df)} videos, Validation split: {len(val_df)} videos\")\n",
        "print(\"Class balance in train ->\", train_df['target'].mean())\n",
        "print(\"Class balance in val   ->\", val_df['target'].mean())"
      ],
      "metadata": {
        "trusted": true,
        "execution": {
          "iopub.status.busy": "2025-05-11T17:18:01.960935Z",
          "iopub.execute_input": "2025-05-11T17:18:01.961499Z",
          "iopub.status.idle": "2025-05-11T17:18:02.438046Z",
          "shell.execute_reply.started": "2025-05-11T17:18:01.961479Z",
          "shell.execute_reply": "2025-05-11T17:18:02.437256Z"
        },
        "id": "D5hgLPUhanQe",
        "outputId": "a9b4afd5-6f75-4c24-a30f-bb6e20a0f306"
      },
      "outputs": [
        {
          "name": "stdout",
          "text": "Train split: 1200 videos, Validation split: 300 videos\nClass balance in train -> 0.5\nClass balance in val   -> 0.5\n",
          "output_type": "stream"
        }
      ],
      "execution_count": null
    },
    {
      "cell_type": "code",
      "source": [
        "\n",
        "base_cnn = ResNet50(weights=None, include_top=False, pooling='avg')\n",
        "\n",
        "base_cnn.trainable = False\n",
        "\n",
        "\n",
        "def sample_uniform_frames(video_path, num_frames=15):\n",
        "    frames = []\n",
        "    cap = cv2.VideoCapture(video_path)\n",
        "    frame_count = int(cap.get(cv2.CAP_PROP_FRAME_COUNT))\n",
        "    if frame_count <= 0:\n",
        "        cap.release()\n",
        "        return frames\n",
        "\n",
        "    indices = np.linspace(0, frame_count-1, num=num_frames, dtype=np.int)\n",
        "    for idx in indices:\n",
        "        cap.set(cv2.CAP_PROP_POS_FRAMES, idx)\n",
        "        ret, frame = cap.read()\n",
        "        if not ret:\n",
        "            break\n",
        "\n",
        "        frame = cv2.resize(frame, (224, 224))\n",
        "        frame = cv2.cvtColor(frame, cv2.COLOR_BGR2RGB)\n",
        "        frames.append(frame)\n",
        "    cap.release()\n",
        "    return np.array(frames)\n",
        "\n",
        "\n",
        "sample_vid = train_df.iloc[0]\n",
        "frames = sample_uniform_frames(os.path.join(DATA_DIR, \"train\", sample_vid['filename']), num_frames=5)\n",
        "\n",
        "if len(frames) > 0:\n",
        "    print(f\"Sampled {len(frames)} frames of shape {frames[0].shape} from video {sample_vid['id']}\")\n",
        "else:\n",
        "    print(f\"No frames extracted for video {sample_vid['id']} (might be a corrupted video).\")"
      ],
      "metadata": {
        "trusted": true,
        "execution": {
          "iopub.status.busy": "2025-05-11T17:18:02.439917Z",
          "iopub.execute_input": "2025-05-11T17:18:02.440362Z",
          "iopub.status.idle": "2025-05-11T17:18:05.525263Z",
          "shell.execute_reply.started": "2025-05-11T17:18:02.440343Z",
          "shell.execute_reply": "2025-05-11T17:18:05.524629Z"
        },
        "id": "mOkuVxz3anQf",
        "outputId": "e1a70216-aa78-410a-9566-effb93c35d8a"
      },
      "outputs": [
        {
          "name": "stderr",
          "text": "I0000 00:00:1746983883.579833      31 gpu_device.cc:2022] Created device /job:localhost/replica:0/task:0/device:GPU:0 with 15513 MB memory:  -> device: 0, name: Tesla P100-PCIE-16GB, pci bus id: 0000:00:04.0, compute capability: 6.0\n",
          "output_type": "stream"
        },
        {
          "name": "stdout",
          "text": "No frames extracted for video 780 (might be a corrupted video).\n",
          "output_type": "stream"
        }
      ],
      "execution_count": null
    },
    {
      "cell_type": "code",
      "source": [
        "\n",
        "def extract_features_dataframe(df):\n",
        "    X_list = []\n",
        "    for _, row in df.iterrows():\n",
        "        vid_id = row['id']; fname = row['filename']\n",
        "        label = row.get('target', None)\n",
        "        video_path = os.path.join(DATA_DIR, \"train\", fname)\n",
        "\n",
        "        frames = sample_uniform_frames(video_path, num_frames=15)\n",
        "        if len(frames) == 0:\n",
        "\n",
        "            X_list.append(np.zeros((15, 2048), dtype=np.float32))\n",
        "            continue\n",
        "\n",
        "        frames = preprocess_input(frames.astype(np.float32))\n",
        "\n",
        "        features = base_cnn.predict(frames, batch_size=15, verbose=0)\n",
        "        X_list.append(features)\n",
        "    return np.array(X_list, dtype=np.float32)\n",
        "\n",
        "X_train = extract_features_dataframe(train_df)\n",
        "X_val   = extract_features_dataframe(val_df)\n",
        "y_train = train_df['target'].values\n",
        "y_val   = val_df['target'].values\n",
        "\n",
        "print(\"Feature extraction complete:\")\n",
        "print(f\"X_train shape: {X_train.shape}, X_val shape: {X_val.shape}\")"
      ],
      "metadata": {
        "trusted": true,
        "execution": {
          "iopub.status.busy": "2025-05-11T17:18:05.525992Z",
          "iopub.execute_input": "2025-05-11T17:18:05.526171Z",
          "iopub.status.idle": "2025-05-11T17:18:06.856463Z",
          "shell.execute_reply.started": "2025-05-11T17:18:05.526156Z",
          "shell.execute_reply": "2025-05-11T17:18:06.855701Z"
        },
        "id": "ADxxkPT3anQh",
        "outputId": "afc0d536-edac-47f5-84e3-166494872831"
      },
      "outputs": [
        {
          "name": "stdout",
          "text": "Feature extraction complete:\nX_train shape: (1200, 15, 2048), X_val shape: (300, 15, 2048)\n",
          "output_type": "stream"
        }
      ],
      "execution_count": null
    },
    {
      "cell_type": "code",
      "source": [
        "\n",
        "model = Sequential([\n",
        "    Bidirectional(LSTM(128, dropout=0.5, return_sequences=False), input_shape=(15, 2048)),\n",
        "    Dense(1, activation='sigmoid')\n",
        "])\n",
        "model.compile(optimizer='adam', loss='binary_crossentropy', metrics=['accuracy'])\n",
        "model.summary()"
      ],
      "metadata": {
        "trusted": true,
        "execution": {
          "iopub.status.busy": "2025-05-11T17:18:06.857291Z",
          "iopub.execute_input": "2025-05-11T17:18:06.857586Z",
          "iopub.status.idle": "2025-05-11T17:18:07.027988Z",
          "shell.execute_reply.started": "2025-05-11T17:18:06.857561Z",
          "shell.execute_reply": "2025-05-11T17:18:07.027238Z"
        },
        "id": "vd7xXvXTanQh",
        "outputId": "f78d1598-c347-4c59-e2ee-1fb544fb1533"
      },
      "outputs": [
        {
          "name": "stderr",
          "text": "/usr/local/lib/python3.11/dist-packages/keras/src/layers/rnn/bidirectional.py:107: UserWarning: Do not pass an `input_shape`/`input_dim` argument to a layer. When using Sequential models, prefer using an `Input(shape)` object as the first layer in the model instead.\n  super().__init__(**kwargs)\n",
          "output_type": "stream"
        },
        {
          "output_type": "display_data",
          "data": {
            "text/plain": "\u001b[1mModel: \"sequential\"\u001b[0m\n",
            "text/html": "<pre style=\"white-space:pre;overflow-x:auto;line-height:normal;font-family:Menlo,'DejaVu Sans Mono',consolas,'Courier New',monospace\"><span style=\"font-weight: bold\">Model: \"sequential\"</span>\n</pre>\n"
          },
          "metadata": {}
        },
        {
          "output_type": "display_data",
          "data": {
            "text/plain": "┏━━━━━━━━━━━━━━━━━━━━━━━━━━━━━━━━━━━━━━┳━━━━━━━━━━━━━━━━━━━━━━━━━━━━━┳━━━━━━━━━━━━━━━━━┓\n┃\u001b[1m \u001b[0m\u001b[1mLayer (type)                        \u001b[0m\u001b[1m \u001b[0m┃\u001b[1m \u001b[0m\u001b[1mOutput Shape               \u001b[0m\u001b[1m \u001b[0m┃\u001b[1m \u001b[0m\u001b[1m        Param #\u001b[0m\u001b[1m \u001b[0m┃\n┡━━━━━━━━━━━━━━━━━━━━━━━━━━━━━━━━━━━━━━╇━━━━━━━━━━━━━━━━━━━━━━━━━━━━━╇━━━━━━━━━━━━━━━━━┩\n│ bidirectional (\u001b[38;5;33mBidirectional\u001b[0m)        │ (\u001b[38;5;45mNone\u001b[0m, \u001b[38;5;34m256\u001b[0m)                 │       \u001b[38;5;34m2,229,248\u001b[0m │\n├──────────────────────────────────────┼─────────────────────────────┼─────────────────┤\n│ dense (\u001b[38;5;33mDense\u001b[0m)                        │ (\u001b[38;5;45mNone\u001b[0m, \u001b[38;5;34m1\u001b[0m)                   │             \u001b[38;5;34m257\u001b[0m │\n└──────────────────────────────────────┴─────────────────────────────┴─────────────────┘\n",
            "text/html": "<pre style=\"white-space:pre;overflow-x:auto;line-height:normal;font-family:Menlo,'DejaVu Sans Mono',consolas,'Courier New',monospace\">┏━━━━━━━━━━━━━━━━━━━━━━━━━━━━━━━━━━━━━━┳━━━━━━━━━━━━━━━━━━━━━━━━━━━━━┳━━━━━━━━━━━━━━━━━┓\n┃<span style=\"font-weight: bold\"> Layer (type)                         </span>┃<span style=\"font-weight: bold\"> Output Shape                </span>┃<span style=\"font-weight: bold\">         Param # </span>┃\n┡━━━━━━━━━━━━━━━━━━━━━━━━━━━━━━━━━━━━━━╇━━━━━━━━━━━━━━━━━━━━━━━━━━━━━╇━━━━━━━━━━━━━━━━━┩\n│ bidirectional (<span style=\"color: #0087ff; text-decoration-color: #0087ff\">Bidirectional</span>)        │ (<span style=\"color: #00d7ff; text-decoration-color: #00d7ff\">None</span>, <span style=\"color: #00af00; text-decoration-color: #00af00\">256</span>)                 │       <span style=\"color: #00af00; text-decoration-color: #00af00\">2,229,248</span> │\n├──────────────────────────────────────┼─────────────────────────────┼─────────────────┤\n│ dense (<span style=\"color: #0087ff; text-decoration-color: #0087ff\">Dense</span>)                        │ (<span style=\"color: #00d7ff; text-decoration-color: #00d7ff\">None</span>, <span style=\"color: #00af00; text-decoration-color: #00af00\">1</span>)                   │             <span style=\"color: #00af00; text-decoration-color: #00af00\">257</span> │\n└──────────────────────────────────────┴─────────────────────────────┴─────────────────┘\n</pre>\n"
          },
          "metadata": {}
        },
        {
          "output_type": "display_data",
          "data": {
            "text/plain": "\u001b[1m Total params: \u001b[0m\u001b[38;5;34m2,229,505\u001b[0m (8.50 MB)\n",
            "text/html": "<pre style=\"white-space:pre;overflow-x:auto;line-height:normal;font-family:Menlo,'DejaVu Sans Mono',consolas,'Courier New',monospace\"><span style=\"font-weight: bold\"> Total params: </span><span style=\"color: #00af00; text-decoration-color: #00af00\">2,229,505</span> (8.50 MB)\n</pre>\n"
          },
          "metadata": {}
        },
        {
          "output_type": "display_data",
          "data": {
            "text/plain": "\u001b[1m Trainable params: \u001b[0m\u001b[38;5;34m2,229,505\u001b[0m (8.50 MB)\n",
            "text/html": "<pre style=\"white-space:pre;overflow-x:auto;line-height:normal;font-family:Menlo,'DejaVu Sans Mono',consolas,'Courier New',monospace\"><span style=\"font-weight: bold\"> Trainable params: </span><span style=\"color: #00af00; text-decoration-color: #00af00\">2,229,505</span> (8.50 MB)\n</pre>\n"
          },
          "metadata": {}
        },
        {
          "output_type": "display_data",
          "data": {
            "text/plain": "\u001b[1m Non-trainable params: \u001b[0m\u001b[38;5;34m0\u001b[0m (0.00 B)\n",
            "text/html": "<pre style=\"white-space:pre;overflow-x:auto;line-height:normal;font-family:Menlo,'DejaVu Sans Mono',consolas,'Courier New',monospace\"><span style=\"font-weight: bold\"> Non-trainable params: </span><span style=\"color: #00af00; text-decoration-color: #00af00\">0</span> (0.00 B)\n</pre>\n"
          },
          "metadata": {}
        }
      ],
      "execution_count": null
    },
    {
      "cell_type": "code",
      "source": [
        "\n",
        "early_stop = EarlyStopping(monitor='val_loss', patience=3, restore_best_weights=True, verbose=1)\n",
        "\n",
        "history = model.fit(\n",
        "    X_train, y_train,\n",
        "    validation_data=(X_val, y_val),\n",
        "    epochs=20,\n",
        "    batch_size=32,\n",
        "    callbacks=[early_stop],\n",
        "    verbose=2\n",
        ")"
      ],
      "metadata": {
        "trusted": true,
        "execution": {
          "iopub.status.busy": "2025-05-11T17:18:07.028822Z",
          "iopub.execute_input": "2025-05-11T17:18:07.029089Z",
          "iopub.status.idle": "2025-05-11T17:18:17.382413Z",
          "shell.execute_reply.started": "2025-05-11T17:18:07.029063Z",
          "shell.execute_reply": "2025-05-11T17:18:17.38184Z"
        },
        "id": "Szo6qgCNanQi",
        "outputId": "aee8d140-8f0c-4f5e-81ab-70d94b0637ec"
      },
      "outputs": [
        {
          "name": "stdout",
          "text": "Epoch 1/20\n",
          "output_type": "stream"
        },
        {
          "name": "stderr",
          "text": "I0000 00:00:1746983891.795440      90 cuda_dnn.cc:529] Loaded cuDNN version 90300\n",
          "output_type": "stream"
        },
        {
          "name": "stdout",
          "text": "38/38 - 6s - 160ms/step - accuracy: 0.4900 - loss: 0.6943 - val_accuracy: 0.5000 - val_loss: 0.6932\nEpoch 2/20\n38/38 - 0s - 10ms/step - accuracy: 0.5000 - loss: 0.6934 - val_accuracy: 0.5000 - val_loss: 0.6932\nEpoch 3/20\n38/38 - 0s - 10ms/step - accuracy: 0.5017 - loss: 0.6932 - val_accuracy: 0.5000 - val_loss: 0.6932\nEpoch 4/20\n38/38 - 0s - 10ms/step - accuracy: 0.5000 - loss: 0.6933 - val_accuracy: 0.5000 - val_loss: 0.6932\nEpoch 5/20\n38/38 - 0s - 10ms/step - accuracy: 0.4850 - loss: 0.6932 - val_accuracy: 0.5000 - val_loss: 0.6931\nEpoch 6/20\n38/38 - 0s - 10ms/step - accuracy: 0.4767 - loss: 0.6933 - val_accuracy: 0.5000 - val_loss: 0.6931\nEpoch 7/20\n38/38 - 0s - 10ms/step - accuracy: 0.5000 - loss: 0.6935 - val_accuracy: 0.5000 - val_loss: 0.6932\nEpoch 8/20\n38/38 - 0s - 10ms/step - accuracy: 0.4783 - loss: 0.6933 - val_accuracy: 0.5000 - val_loss: 0.6931\nEpoch 9/20\n38/38 - 0s - 10ms/step - accuracy: 0.4983 - loss: 0.6933 - val_accuracy: 0.5000 - val_loss: 0.6932\nEpoch 10/20\n38/38 - 0s - 10ms/step - accuracy: 0.5000 - loss: 0.6932 - val_accuracy: 0.5000 - val_loss: 0.6932\nEpoch 11/20\n38/38 - 0s - 10ms/step - accuracy: 0.5000 - loss: 0.6932 - val_accuracy: 0.5000 - val_loss: 0.6932\nEpoch 11: early stopping\nRestoring model weights from the end of the best epoch: 8.\n",
          "output_type": "stream"
        }
      ],
      "execution_count": null
    },
    {
      "cell_type": "code",
      "source": [
        "\n",
        "val_loss, val_acc = model.evaluate(X_val, y_val, verbose=0)\n",
        "print(f\"Validation accuracy: {val_acc:.4f}\")\n",
        "\n",
        "from sklearn.metrics import classification_report\n",
        "val_preds = model.predict(X_val)[:, 0]\n",
        "val_preds_binary = (val_preds >= 0.5).astype(int)\n",
        "print(classification_report(y_val, val_preds_binary, digits=4))"
      ],
      "metadata": {
        "trusted": true,
        "execution": {
          "iopub.status.busy": "2025-05-11T17:18:17.383245Z",
          "iopub.execute_input": "2025-05-11T17:18:17.383506Z",
          "iopub.status.idle": "2025-05-11T17:18:18.450076Z",
          "shell.execute_reply.started": "2025-05-11T17:18:17.383481Z",
          "shell.execute_reply": "2025-05-11T17:18:18.449175Z"
        },
        "id": "PedzpRp1anQj",
        "outputId": "751513f4-cbbe-4a42-9834-5329248f6835"
      },
      "outputs": [
        {
          "name": "stdout",
          "text": "Validation accuracy: 0.5000\n\u001b[1m10/10\u001b[0m \u001b[32m━━━━━━━━━━━━━━━━━━━━\u001b[0m\u001b[37m\u001b[0m \u001b[1m1s\u001b[0m 40ms/step\n              precision    recall  f1-score   support\n\n           0     0.5000    1.0000    0.6667       150\n           1     0.0000    0.0000    0.0000       150\n\n    accuracy                         0.5000       300\n   macro avg     0.2500    0.5000    0.3333       300\nweighted avg     0.2500    0.5000    0.3333       300\n\n",
          "output_type": "stream"
        },
        {
          "name": "stderr",
          "text": "/usr/local/lib/python3.11/dist-packages/sklearn/metrics/_classification.py:1344: UndefinedMetricWarning: Precision and F-score are ill-defined and being set to 0.0 in labels with no predicted samples. Use `zero_division` parameter to control this behavior.\n  _warn_prf(average, modifier, msg_start, len(result))\n/usr/local/lib/python3.11/dist-packages/sklearn/metrics/_classification.py:1344: UndefinedMetricWarning: Precision and F-score are ill-defined and being set to 0.0 in labels with no predicted samples. Use `zero_division` parameter to control this behavior.\n  _warn_prf(average, modifier, msg_start, len(result))\n/usr/local/lib/python3.11/dist-packages/sklearn/metrics/_classification.py:1344: UndefinedMetricWarning: Precision and F-score are ill-defined and being set to 0.0 in labels with no predicted samples. Use `zero_division` parameter to control this behavior.\n  _warn_prf(average, modifier, msg_start, len(result))\n",
          "output_type": "stream"
        }
      ],
      "execution_count": null
    },
    {
      "cell_type": "code",
      "source": [
        "\n",
        "def extract_features_test(df):\n",
        "    X_list = []\n",
        "    for _, row in df.iterrows():\n",
        "        fname = row['filename']\n",
        "        video_path = os.path.join(DATA_DIR, \"test\", fname)\n",
        "        frames = sample_uniform_frames(video_path, num_frames=15)\n",
        "        if len(frames) == 0:\n",
        "            X_list.append(np.zeros((15, 2048), dtype=np.float32))\n",
        "            continue\n",
        "        frames = preprocess_input(frames.astype(np.float32))\n",
        "        features = base_cnn.predict(frames, batch_size=15, verbose=0)\n",
        "        X_list.append(features)\n",
        "    return np.array(X_list, dtype=np.float32)\n",
        "\n",
        "X_test = extract_features_test(test_df)\n",
        "print(f\"X_test shape: {X_test.shape}\")\n",
        "\n",
        "\n",
        "test_preds = model.predict(X_test)\n",
        "test_preds = test_preds[:, 0]"
      ],
      "metadata": {
        "trusted": true,
        "execution": {
          "iopub.status.busy": "2025-05-11T17:18:18.452301Z",
          "iopub.execute_input": "2025-05-11T17:18:18.452658Z",
          "iopub.status.idle": "2025-05-11T17:18:20.198857Z",
          "shell.execute_reply.started": "2025-05-11T17:18:18.452641Z",
          "shell.execute_reply": "2025-05-11T17:18:20.198309Z"
        },
        "id": "jGFbLum_anQj",
        "outputId": "b5b8c1a8-af1f-4015-9c66-e3b812c93ec7"
      },
      "outputs": [
        {
          "name": "stdout",
          "text": "X_test shape: (1344, 15, 2048)\n\u001b[1m42/42\u001b[0m \u001b[32m━━━━━━━━━━━━━━━━━━━━\u001b[0m\u001b[37m\u001b[0m \u001b[1m0s\u001b[0m 3ms/step\n",
          "output_type": "stream"
        }
      ],
      "execution_count": null
    },
    {
      "cell_type": "code",
      "source": [
        "\n",
        "submission = test_df.copy()\n",
        "submission['target'] = test_preds\n",
        "submission = submission[['id', 'target']]\n",
        "submission.to_csv('submission.csv', index=False)\n",
        "submission.head(10)"
      ],
      "metadata": {
        "trusted": true,
        "execution": {
          "iopub.status.busy": "2025-05-11T17:18:20.200484Z",
          "iopub.execute_input": "2025-05-11T17:18:20.200714Z",
          "iopub.status.idle": "2025-05-11T17:18:20.219664Z",
          "shell.execute_reply.started": "2025-05-11T17:18:20.200697Z",
          "shell.execute_reply": "2025-05-11T17:18:20.218955Z"
        },
        "id": "GA1wT_A8anQk",
        "outputId": "74b07f31-f8b3-4e93-eff9-a30aaa12f753"
      },
      "outputs": [
        {
          "execution_count": 10,
          "output_type": "execute_result",
          "data": {
            "text/plain": "    id    target\n0  204  0.499743\n1   30  0.499743\n2  146  0.499743\n3   20  0.499743\n4  511  0.499743\n5  261  0.499743\n6  346  0.499743\n7  545  0.499743\n8  492  0.499743\n9  299  0.499743",
            "text/html": "<div>\n<style scoped>\n    .dataframe tbody tr th:only-of-type {\n        vertical-align: middle;\n    }\n\n    .dataframe tbody tr th {\n        vertical-align: top;\n    }\n\n    .dataframe thead th {\n        text-align: right;\n    }\n</style>\n<table border=\"1\" class=\"dataframe\">\n  <thead>\n    <tr style=\"text-align: right;\">\n      <th></th>\n      <th>id</th>\n      <th>target</th>\n    </tr>\n  </thead>\n  <tbody>\n    <tr>\n      <th>0</th>\n      <td>204</td>\n      <td>0.499743</td>\n    </tr>\n    <tr>\n      <th>1</th>\n      <td>30</td>\n      <td>0.499743</td>\n    </tr>\n    <tr>\n      <th>2</th>\n      <td>146</td>\n      <td>0.499743</td>\n    </tr>\n    <tr>\n      <th>3</th>\n      <td>20</td>\n      <td>0.499743</td>\n    </tr>\n    <tr>\n      <th>4</th>\n      <td>511</td>\n      <td>0.499743</td>\n    </tr>\n    <tr>\n      <th>5</th>\n      <td>261</td>\n      <td>0.499743</td>\n    </tr>\n    <tr>\n      <th>6</th>\n      <td>346</td>\n      <td>0.499743</td>\n    </tr>\n    <tr>\n      <th>7</th>\n      <td>545</td>\n      <td>0.499743</td>\n    </tr>\n    <tr>\n      <th>8</th>\n      <td>492</td>\n      <td>0.499743</td>\n    </tr>\n    <tr>\n      <th>9</th>\n      <td>299</td>\n      <td>0.499743</td>\n    </tr>\n  </tbody>\n</table>\n</div>"
          },
          "metadata": {}
        }
      ],
      "execution_count": null
    },
    {
      "cell_type": "code",
      "source": [],
      "metadata": {
        "trusted": true,
        "id": "mEessE0manQl"
      },
      "outputs": [],
      "execution_count": null
    }
  ]
}